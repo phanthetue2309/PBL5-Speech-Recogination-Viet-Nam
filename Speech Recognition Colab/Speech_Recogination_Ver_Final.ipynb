{
  "nbformat": 4,
  "nbformat_minor": 0,
  "metadata": {
    "colab": {
      "name": "Speech Recogination Ver Low.ipynb",
      "provenance": [],
      "collapsed_sections": [],
      "toc_visible": true
    },
    "kernelspec": {
      "name": "python391jvsc74a57bd0351b87567442ec4b53653d0059372e5e2e131ad486e0da491db63835603c9b6a",
      "display_name": "Python 3.9.1 64-bit"
    },
    "language_info": {
      "codemirror_mode": {
        "name": "ipython",
        "version": 3
      },
      "file_extension": ".py",
      "mimetype": "text/x-python",
      "name": "python",
      "nbconvert_exporter": "python",
      "pygments_lexer": "ipython3",
      "version": "3.9.1"
    },
    "accelerator": "GPU"
  },
  "cells": [
    {
      "source": [
        "Using colab to run this code. Remember activate TF-GPU before start and cd to your directory."
      ],
      "cell_type": "markdown",
      "metadata": {}
    },
    {
      "source": [
        "# Lấy dữ liệu\n"
      ],
      "cell_type": "markdown",
      "metadata": {
        "id": "FjBbEIVmLQ-m"
      }
    },
    {
      "cell_type": "code",
      "metadata": {
        "id": "pwGQr5139Kpw"
      },
      "source": [
        "import os\n",
        "import librosa\n",
        "import IPython.display as ipd\n",
        "import matplotlib.pyplot as plt\n",
        "import numpy as np\n",
        "from scipy.io import wavfile\n",
        "import warnings\n",
        "warnings.filterwarnings(\"ignore\")\n",
        "train_audio_path = 'input/train_split/'\n",
        "labels=os.listdir(train_audio_path)\n",
        "\n",
        "remove_text = '.ipynb_checkpoints'\n",
        "if remove_text in labels : \n",
        "  labels.remove('.ipynb_checkpoints')\n",
        "size_test = len(labels)"
      ],
      "execution_count": 3,
      "outputs": []
    },
    {
      "cell_type": "code",
      "metadata": {
        "colab": {
          "base_uri": "https://localhost:8080/",
          "height": 581
        },
        "id": "-Uy3s4cp9Kp4",
        "outputId": "61ada9ed-e197-451c-b430-0fb42a3f3a6f"
      },
      "source": [
        "#find count of each label and plot bar graph\n",
        "no_of_recordings=[]\n",
        "for label in labels:\n",
        "    waves = [f for f in os.listdir(train_audio_path + '/'+ label) if f.endswith('.wav')]\n",
        "    no_of_recordings.append(len(waves))\n",
        "    \n",
        "#plot\n",
        "plt.figure(figsize=(30,10))\n",
        "index = np.arange(len(labels))\n",
        "print(no_of_recordings)\n",
        "plt.bar(index, no_of_recordings)\n",
        "plt.xlabel('Commands', fontsize=24)\n",
        "plt.ylabel('No of recordings', fontsize=24)\n",
        "plt.xticks(index, labels, fontsize=24, rotation=0)\n",
        "plt.title('No. of recordings for each command')\n",
        "plt.show()"
      ],
      "execution_count": 4,
      "outputs": [
        {
          "output_type": "stream",
          "text": [
            "[50, 50, 50, 50, 50, 50, 50]\n"
          ],
          "name": "stdout"
        },
        {
          "output_type": "display_data",
          "data": {
            "image/png": "[encoded data removed]",
            "text/plain": [
              "<Figure size 2160x720 with 1 Axes>"
            ]
          },
          "metadata": {
            "tags": [],
            "needs_background": "light"
          }
        }
      ]
    },
    {
      "cell_type": "markdown",
      "metadata": {
        "id": "WY4_cONZ9S8O"
      },
      "source": [
        "# **Dữ liệu Train**"
      ]
    },
    {
      "cell_type": "code",
      "metadata": {
        "id": "O_JXr-lG8g6V"
      },
      "source": [
        "shape = 31951"
      ],
      "execution_count": 5,
      "outputs": []
    },
    {
      "cell_type": "code",
      "metadata": {
        "colab": {
          "base_uri": "https://localhost:8080/"
        },
        "id": "8AutOGtqIvYU",
        "outputId": "31648e96-de92-43f7-fc92-fb05b33f9529"
      },
      "source": [
        "all_wave = []\n",
        "all_label = []\n",
        "for label in labels:\n",
        "  print(label)\n",
        "  waves = [f for f in os.listdir(train_audio_path + '/'+ label) if f.endswith('.wav')]\n",
        "  for wav in waves:\n",
        "    samples, sample_rate = librosa.load(train_audio_path + '/' + label + '/' + wav, sr = 44100)\n",
        "    samples = librosa.resample(samples, sample_rate, 8000)\n",
        "    number_range = 1\n",
        "    if len(samples) < shape : \n",
        "        # fill data null\n",
        "        fill = [0] * (shape - len(samples)) \n",
        "        samples = np.concatenate((samples,fill))\n",
        "        # add white noise\n",
        "        wn = np.random.randn(shape) # white noise \n",
        "        samples_wn = samples + number_range*wn\n",
        "        all_wave.append(samples)\n",
        "        all_label.append(label)\n",
        "        \n",
        "    else : \n",
        "        all_wave.append(samples)\n",
        "        all_label.append(label)\n",
        "        # add white noise\n",
        "        wn = np.random.randn(shape)\n",
        "        samples_wn = samples + number_range*wn\n",
        "        all_wave.append(samples)\n",
        "        all_label.append(label)\n",
        "        \n",
        "        \n",
        "     "
      ],
      "execution_count": 28,
      "outputs": [
        {
          "output_type": "stream",
          "text": [
            "đi lui\n",
            "quay trái\n",
            "đi tới\n",
            "dừng lại\n",
            "sang trái\n",
            "sang phải\n",
            "quay phải\n"
          ],
          "name": "stdout"
        }
      ]
    },
    {
      "cell_type": "markdown",
      "metadata": {
        "id": "WQWhxHkD9Kp6"
      },
      "source": [
        "Convert the output labels to integer"
      ]
    },
    {
      "cell_type": "code",
      "metadata": {
        "colab": {
          "base_uri": "https://localhost:8080/"
        },
        "id": "SUjWanW-9Kp6",
        "outputId": "292d95c6-ed54-4d97-f0a7-ae6cb979c4a4"
      },
      "source": [
        "from sklearn.preprocessing import LabelEncoder\n",
        "from keras.utils import np_utils\n",
        "\n",
        "le = LabelEncoder()\n",
        "y=le.fit_transform(all_label)\n",
        "classes= list(le.classes_)\n",
        "y=np_utils.to_categorical(y, num_classes=len(labels))\n",
        "\n",
        "classes"
      ],
      "execution_count": 29,
      "outputs": [
        {
          "output_type": "execute_result",
          "data": {
            "text/plain": [
              "['dừng lại',\n",
              " 'quay phải',\n",
              " 'quay trái',\n",
              " 'sang phải',\n",
              " 'sang trái',\n",
              " 'đi lui',\n",
              " 'đi tới']"
            ]
          },
          "metadata": {
            "tags": []
          },
          "execution_count": 29
        }
      ]
    },
    {
      "cell_type": "markdown",
      "metadata": {
        "id": "qD5GjMcJIshm"
      },
      "source": [
        "## Create input shape"
      ]
    },
    {
      "cell_type": "code",
      "metadata": {
        "id": "AvPZSaWeha9k"
      },
      "source": [
        "input_shape = (shape,1)"
      ],
      "execution_count": 30,
      "outputs": []
    },
    {
      "cell_type": "code",
      "metadata": {
        "id": "zh5Wpi2qeb6A"
      },
      "source": [
        "all_wave = np.array(all_wave).reshape(-1,shape,1) # shape same with len of sample "
      ],
      "execution_count": 31,
      "outputs": []
    },
    {
      "cell_type": "markdown",
      "metadata": {
        "id": "x9cUwq6C9Kp8"
      },
      "source": [
        "## Create Model "
      ]
    },
    {
      "cell_type": "code",
      "metadata": {
        "colab": {
          "base_uri": "https://localhost:8080/"
        },
        "id": "dNcMK-tH9Kp9",
        "outputId": "3af8323c-6c70-4395-fa73-036042361fe5"
      },
      "source": [
        "from keras.layers import Dense, Dropout, Flatten, Conv1D, Input, MaxPooling1D\n",
        "from keras.models import Model\n",
        "from keras.callbacks import EarlyStopping, ModelCheckpoint\n",
        "from keras import backend as K\n",
        "K.clear_session()\n",
        "\n",
        "inputs = Input(shape=input_shape) # Input shape has len same with data\n",
        "dropout_rate = 0.3\n",
        "max_pooling = 3\n",
        "\n",
        "#1st Conv1D layer\n",
        "conv = Conv1D(8,13, padding='valid', activation='relu', strides=1)(inputs)\n",
        "conv = MaxPooling1D(max_pooling)(conv)\n",
        "conv = Dropout(dropout_rate)(conv)\n",
        "\n",
        "#2nd Conv1D layer\n",
        "conv = Conv1D(16, 11, padding='valid', activation='relu', strides=1)(conv)\n",
        "conv = MaxPooling1D(max_pooling)(conv)\n",
        "conv = Dropout(dropout_rate)(conv)\n",
        "\n",
        "#3rd Conv1D layer\n",
        "conv = Conv1D(32, 9, padding='valid', activation='relu', strides=1)(conv)\n",
        "conv = MaxPooling1D(max_pooling)(conv)\n",
        "conv = Dropout(dropout_rate)(conv)\n",
        "\n",
        "#4th Conv1D layer\n",
        "conv = Conv1D(64, 7, padding='valid', activation='relu', strides=1)(conv)\n",
        "conv = MaxPooling1D(max_pooling)(conv)\n",
        "conv = Dropout(dropout_rate)(conv)\n",
        "\n",
        "#5th Conv1D layer\n",
        "conv = Conv1D(128, 7, padding='valid', activation='relu', strides=1)(conv)\n",
        "conv = MaxPooling1D(max_pooling)(conv)\n",
        "conv = Dropout(dropout_rate)(conv)\n",
        "\n",
        "#Flatten layer\n",
        "conv = Flatten()(conv)\n",
        "\n",
        "#Dense Layer 1\n",
        "conv = Dense(256, activation='relu')(conv)\n",
        "conv = Dropout(dropout_rate)(conv)\n",
        "\n",
        "#Dense Layer 2\n",
        "conv = Dense(128, activation='relu')(conv)\n",
        "conv = Dropout(dropout_rate)(conv)\n",
        "\n",
        "outputs = Dense(len(labels), activation='softmax')(conv)\n",
        "\n",
        "model = Model(inputs, outputs)\n",
        "model.summary()"
      ],
      "execution_count": 80,
      "outputs": [
        {
          "output_type": "stream",
          "text": [
            "Model: \"model\"\n",
            "_________________________________________________________________\n",
            "Layer (type)                 Output Shape              Param #   \n",
            "=================================================================\n",
            "input_1 (InputLayer)         [(None, 31951, 1)]        0         \n",
            "_________________________________________________________________\n",
            "conv1d (Conv1D)              (None, 31939, 8)          112       \n",
            "_________________________________________________________________\n",
            "max_pooling1d (MaxPooling1D) (None, 10646, 8)          0         \n",
            "_________________________________________________________________\n",
            "dropout (Dropout)            (None, 10646, 8)          0         \n",
            "_________________________________________________________________\n",
            "conv1d_1 (Conv1D)            (None, 10636, 16)         1424      \n",
            "_________________________________________________________________\n",
            "max_pooling1d_1 (MaxPooling1 (None, 3545, 16)          0         \n",
            "_________________________________________________________________\n",
            "dropout_1 (Dropout)          (None, 3545, 16)          0         \n",
            "_________________________________________________________________\n",
            "conv1d_2 (Conv1D)            (None, 3537, 32)          4640      \n",
            "_________________________________________________________________\n",
            "max_pooling1d_2 (MaxPooling1 (None, 1179, 32)          0         \n",
            "_________________________________________________________________\n",
            "dropout_2 (Dropout)          (None, 1179, 32)          0         \n",
            "_________________________________________________________________\n",
            "conv1d_3 (Conv1D)            (None, 1173, 64)          14400     \n",
            "_________________________________________________________________\n",
            "max_pooling1d_3 (MaxPooling1 (None, 391, 64)           0         \n",
            "_________________________________________________________________\n",
            "dropout_3 (Dropout)          (None, 391, 64)           0         \n",
            "_________________________________________________________________\n",
            "conv1d_4 (Conv1D)            (None, 385, 128)          57472     \n",
            "_________________________________________________________________\n",
            "max_pooling1d_4 (MaxPooling1 (None, 128, 128)          0         \n",
            "_________________________________________________________________\n",
            "dropout_4 (Dropout)          (None, 128, 128)          0         \n",
            "_________________________________________________________________\n",
            "flatten (Flatten)            (None, 16384)             0         \n",
            "_________________________________________________________________\n",
            "dense (Dense)                (None, 256)               4194560   \n",
            "_________________________________________________________________\n",
            "dropout_5 (Dropout)          (None, 256)               0         \n",
            "_________________________________________________________________\n",
            "dense_1 (Dense)              (None, 128)               32896     \n",
            "_________________________________________________________________\n",
            "dropout_6 (Dropout)          (None, 128)               0         \n",
            "_________________________________________________________________\n",
            "dense_2 (Dense)              (None, 7)                 903       \n",
            "=================================================================\n",
            "Total params: 4,306,407\n",
            "Trainable params: 4,306,407\n",
            "Non-trainable params: 0\n",
            "_________________________________________________________________\n"
          ],
          "name": "stdout"
        }
      ]
    },
    {
      "cell_type": "markdown",
      "metadata": {
        "id": "0eJo3kYoI8Mf"
      },
      "source": [
        "## Train Validation Test"
      ]
    },
    {
      "cell_type": "markdown",
      "metadata": {
        "id": "AT8-CvqG9Kp8"
      },
      "source": [
        "**Split into train and validation set**\n",
        "\n",
        "Train the model on 80% of the data and validate on the remaining 20%:\n",
        "\n",
        "Test size is 0.2 that means 20%\n"
      ]
    },
    {
      "cell_type": "code",
      "metadata": {
        "id": "TwnAXMC29Kp8"
      },
      "source": [
        "from sklearn.model_selection import train_test_split\n",
        "x_tr, x_val, y_tr, y_val = train_test_split(np.array(all_wave),np.array(y),stratify=y,test_size = 0.2, random_state=10, shuffle=True)"
      ],
      "execution_count": 81,
      "outputs": []
    },
    {
      "cell_type": "markdown",
      "metadata": {
        "id": "qGVh5RIH9Kp_"
      },
      "source": [
        "Early stopping and model checkpoints are the callbacks to stop training the neural network at the right time and to save the best model after every epoch. In my code I set patience = 5 it measn after 5 times accuracy score did not increase it will stop."
      ]
    },
    {
      "cell_type": "code",
      "metadata": {
        "id": "I9adal9c9KqA"
      },
      "source": [
        "model.compile(loss='categorical_crossentropy',optimizer='adam',metrics=['accuracy'])\n",
        "es = EarlyStopping(monitor='val_loss', mode='min', verbose=1, \n",
        "                   patience= 5, min_delta=0.01) # kết thúc sớm với 20 giá trị giống nhau thì ngắt\n",
        "mc = ModelCheckpoint('best_model.hdf5', monitor='val_accuracy', \n",
        "                     verbose=1, save_best_only=True, mode='max')"
      ],
      "execution_count": 82,
      "outputs": []
    },
    {
      "cell_type": "markdown",
      "metadata": {
        "id": "AZ9fDOR4vyjZ"
      },
      "source": [
        "### **Train dữ liệu thu được**"
      ]
    },
    {
      "cell_type": "code",
      "execution_count": null,
      "metadata": {},
      "outputs": [],
      "source": [
        "history=model.fit(x_tr, y_tr ,epochs = 100, callbacks=[es,mc], batch_size = 32, validation_data=(x_val,y_val))"
      ]
    },
    {
      "cell_type": "markdown",
      "metadata": {
        "id": "DufRcYaq9KqB"
      },
      "source": [
        "##Trực quan hóa dữ liệu sau khi Train/Test\n"
      ]
    },
    {
      "source": [
        "from matplotlib import pyplot\n",
        "pyplot.plot(history.history['loss'], label='train')\n",
        "pyplot.plot(history.history['val_loss'], label='test')\n",
        "pyplot.legend()\n",
        "pyplot.show()"
      ],
      "cell_type": "markdown",
      "metadata": {
        "colab": {
          "base_uri": "https://localhost:8080/",
          "height": 265
        },
        "id": "gZFT67Y99KqB",
        "outputId": "a9c47fd9-2ccf-4635-aa12-7267e287e5c0"
      }
    },
    {
      "source": [
        "from matplotlib import pyplot \n",
        "pyplot.plot(history.history['accuracy'], label='train') \n",
        "pyplot.plot(history.history['val_accuracy'], label='test') \n",
        "pyplot.legend() \n",
        "pyplot.show()"
      ],
      "cell_type": "code",
      "metadata": {
        "colab": {
          "base_uri": "https://localhost:8080/",
          "height": 265
        },
        "id": "9nWdtuPyZuDk",
        "outputId": "96b46750-2968-49fd-9635-06d8ec915705"
      },
      "execution_count": null,
      "outputs": []
    },
    {
      "cell_type": "markdown",
      "metadata": {
        "id": "wkcJxjXN7A-a"
      },
      "source": [
        "# Test\n"
      ]
    },
    {
      "cell_type": "markdown",
      "metadata": {
        "id": "ZId8UK5U9KqC"
      },
      "source": [
        "## **Loading the best model**"
      ]
    },
    {
      "cell_type": "code",
      "metadata": {
        "id": "2n1hIof49KqC"
      },
      "source": [
        "from keras.models import load_model\n",
        "model=load_model('best_model.hdf5')"
      ],
      "execution_count": 86,
      "outputs": []
    },
    {
      "cell_type": "markdown",
      "metadata": {
        "id": "MRY8EBp_9KqC"
      },
      "source": [
        "Define the function that predicts text for the given audio:"
      ]
    },
    {
      "cell_type": "code",
      "metadata": {
        "id": "viLDWVGh9KqD"
      },
      "source": [
        "def predict(audio):\n",
        "    prob=model.predict(audio.reshape(1,shape,1))  # same len of data\n",
        "    index=np.argmax(prob[0])\n",
        "    return classes[index]"
      ],
      "execution_count": 87,
      "outputs": []
    },
    {
      "cell_type": "markdown",
      "metadata": {
        "id": "qZWYtsRa9KqD"
      },
      "source": [
        "***Prediction*** :  Make predictions on the validation data: ( Dự đoán )\n"
      ]
    },
    {
      "cell_type": "code",
      "metadata": {
        "colab": {
          "base_uri": "https://localhost:8080/"
        },
        "id": "S7YY9Q8fG14W",
        "outputId": "1a12713f-98ff-423b-ad5b-eee2fb635fcb"
      },
      "source": [
        "filepath='input/voice-commands/test'\n",
        "waves = [f for f in os.listdir(filepath + '/') if f.endswith('.wav')]\n",
        "for wav in waves:\n",
        "    samples, sample_rate = librosa.load(filepath + '/' + wav, sr = 44100)\n",
        "    samples = librosa.resample(samples, sample_rate, 8000)\n",
        "    data  = []\n",
        "    # if your data has two channel so change it to one channel\n",
        "    if len(samples.shape) == 2:\n",
        "        if samples.shape[1] !=  1 :\n",
        "            for i in range(len(samples)):\n",
        "                data.append(samples[i][1])\n",
        "    else : \n",
        "        data = samples\n",
        "\n",
        "    print(wav + \" = \" + predict(data))"
      ],
      "execution_count": 88,
      "outputs": [
        {
          "output_type": "stream",
          "text": [
            "ditoi_tue_03.wav = đi tới\n",
            "dunglai_tue_05.wav = dừng lại\n",
            "sangphai_tue_05.wav = sang phải\n",
            "dilui_tue_06.wav = sang phải\n",
            "sangtrai_tue_03.wav = sang trái\n",
            "quayphai_tue_09.wav = quay phải\n",
            "quaytrai_tue_07.wav = quay trái\n",
            "dilui_DLN_05.wav = đi lui\n",
            "dunglai_DLN_06.wav = dừng lại\n",
            "ditoi_DLN_03.wav = đi tới\n",
            "quaytrai_DLN_04.wav = quay trái\n",
            "quayphai_DLN_04.wav = quay phải\n",
            "sangphai_DLN_01.wav = sang phải\n",
            "sangphai_DLN_06.wav = sang phải\n",
            "sangtrai_DLN_04.wav = sang trái\n",
            "ditoi_Dat_07.wav = đi tới\n",
            "dilui_Dat_10.wav = đi lui\n",
            "dunglai_Dat_04.wav = dừng lại\n",
            "quayphai_Dat_05.wav = quay phải\n",
            "quaytrai_Dat_05.wav = quay trái\n",
            "sangtrai_Dat_05.wav = sang trái\n"
          ],
          "name": "stdout"
        }
      ]
    }
  ]
}